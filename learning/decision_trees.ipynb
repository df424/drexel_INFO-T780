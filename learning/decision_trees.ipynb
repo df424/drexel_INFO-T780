{
 "cells": [
  {
   "cell_type": "markdown",
   "metadata": {},
   "source": [
    "<h1>Decision Trees (Part 1)</h1>\n",
    "<p>Given a data set we can use machine learning to create decision trees to make a complex decision based on data.  In this assignment we learn decision trees to classify  </p>\n",
    "<p>We are given the following dataset to work with.</p>\n",
    "<table>\n",
    "    <tr><th>No.</th><th>Outlook</th><th>Temperature</th><th>Humidity</th><th>Windy</th><th>Class</th></tr>\n",
    "    <tr><td>1</td><td>sunny</td><td>hot</td><td>high</td><td>false</td><td>N</td></tr>\n",
    "    <tr><td>2</td><td>sunny</td><td>hot</td> <td>high</td> <td>true</td> <td>N</td></tr>\n",
    "    <tr><td>3</td><td>overcast</td><td>hot</td> <td>high</td> <td>false</td> <td>P</td></tr>\n",
    "    <tr><td>4</td><td>rain</td><td>mild</td> <td>high</td> <td>false</td> <td>P</td></tr>\n",
    "    <tr><td>5</td><td>rain</td><td>cool</td> <td>normal</td> <td>false</td> <td>P</td></tr>\n",
    "    <tr><td>6</td><td>rain</td><td>cool</td> <td>normal</td> <td>true</td> <td>N</td></tr>\n",
    "    <tr><td>7</td><td>overcast</td><td>cool</td> <td>normal</td> <td>true</td> <td>P</td></tr>\n",
    "    <tr><td>8</td><td>sunny</td><td>mild</td> <td>high</td> <td>false</td> <td>N</td></tr>\n",
    "    <tr><td>9</td><td>sunny</td><td>cool</td> <td>normal</td> <td>false</td> <td>P</td></tr>\n",
    "    <tr><td>10</td><td>rain</td><td>mild</td> <td>normal</td> <td>false</td> <td>P</td></tr>\n",
    "    <tr><td>11</td><td>sunny</td><td>mild</td> <td>normal</td> <td>true</td> <td>P</td></tr>\n",
    "    <tr><td>12</td><td>overcast</td><td>mild</td> <td>high</td> <td>true</td> <td>P</td></tr>\n",
    "    <tr><td>13</td><td>overcast</td><td>hot</td> <td>normal</td> <td>false</td> <td>P</td></tr>\n",
    "    <tr><td>14</td><td>rain</td><td>mild</td> <td>high</td> <td>true</td> <td>N</td></tr>\n",
    "</table>\n",
    "\n",
    "<p>Notice we have a number of enumerated features.  For instance the <b>outlook</b> category can be either sunny, overcast or rain.  The <b>temperature</b> can be hot, mild or cool, the <b>humidty</b> can be high or normal.  To make it easier to handle this programatically we can transform these features into <b>1-hot vectors</b>; or in the case of the humidty just a simple boolean.  So instead of our original feature set lets use the following list of binary variables: Sunny, Overcast, Rainy, Hot Mild, Cool, Humid, Windy.  With this in mind we can use the table shown below as the input to our algorithms.</p>\n",
    "\n",
    "<table>\n",
    "    <tr><th>No.</th><th>Sunny</th><th>Overcast</th><th>Rainy</th><th>Hot</th><th>Mild</th><th>Cool</th><th>Humid</th><th>Windy</th><th>Class</th></tr>\n",
    "    <tr><td>1</td> <th>T</th> <th>F</th> <th>F</th> <th>T</th> <th>F</th> <th>F</th> <th>T</th> <th>F</th> <th>N</th></tr>\n",
    "    <tr><td>2</td> <th>T</th> <th>F</th> <th>F</th> <th>T</th> <th>F</th> <th>F</th> <th>T</th> <th>T</th> <th>N</th></tr>\n",
    "    <tr><td>3</td> <th>F</th> <th>T</th> <th>F</th> <th>T</th> <th>F</th> <th>F</th> <th>T</th> <th>F</th> <th>P</th></tr>\n",
    "    <tr><td>4</td> <th>F</th> <th>F</th> <th>T</th> <th>F</th> <th>T</th> <th>F</th> <th>T</th> <th>F</th> <th>P</th></tr>\n",
    "    <tr><td>5</td> <th>F</th> <th>F</th> <th>T</th> <th>F</th> <th>F</th> <th>T</th> <th>F</th> <th>F</th> <th>P</th></tr>\n",
    "    <tr><td>6</td> <th>F</th> <th>F</th> <th>T</th> <th>F</th> <th>F</th> <th>T</th> <th>F</th> <th>T</th> <th>N</th></tr>\n",
    "    <tr><td>7</td> <th>F</th> <th>T</th> <th>F</th> <th>F</th> <th>F</th> <th>T</th> <th>F</th> <th>T</th> <th>P</th></tr>\n",
    "    <tr><td>8</td> <th>T</th> <th>F</th> <th>F</th> <th>F</th> <th>T</th> <th>F</th> <th>T</th> <th>F</th> <th>N</th></tr> \n",
    "    <tr><td>9</td> <th>T</th> <th>F</th> <th>F</th> <th>F</th> <th>F</th> <th>T</th> <th>F</th> <th>F</th> <th>P</th></tr>\n",
    "    <tr><td>10</td> <th>F</th> <th>F</th> <th>T</th> <th>F</th> <th>T</th> <th>F</th> <th>F</th> <th>F</th> <th>P</th></tr>\n",
    "    <tr><td>11</td> <th>T</th> <th>F</th> <th>F</th> <th>F</th> <th>T</th> <th>F</th> <th>F</th> <th>T</th> <th>P</th></tr>\n",
    "    <tr><td>12</td> <th>F</th> <th>T</th> <th>F</th> <th>F</th> <th>T</th> <th>F</th> <th>T</th> <th>T</th> <th>P</th></tr>\n",
    "    <tr><td>13</td> <th>F</th> <th>T</th> <th>F</th> <th>T</th> <th>F</th> <th>F</th> <th>F</th> <th>F</th> <th>P</th></tr>\n",
    "    <tr><td>14</td> <th>F</th> <th>F</th> <th>T</th> <th>F</th> <th>T</th> <th>F</th> <th>T</th> <th>T</th> <th>N</th></tr>\n",
    "</table>"
   ]
  },
  {
   "cell_type": "markdown",
   "metadata": {},
   "source": [
    "<h3 id=\"randomdecisiontree\">Decision Trees - Random Feature Selection</h3>\n",
    "<p>When learning a decision tree we can use the following algorithm...</p><br>\n",
    "<code>While there are data points left to classify:\n",
    "    1. Pick a feature or features to branch on.\n",
    "    2. Divide the input data based on the decision.\n",
    "    3. If either set of the divided data has a single class then let that be the leaf of the tree.</code>"
   ]
  },
  {
   "cell_type": "code",
   "execution_count": 1,
   "metadata": {
    "scrolled": false
   },
   "outputs": [
    {
     "name": "stdout",
     "output_type": "stream",
     "text": [
      "[[0. 0. 0. 0.]\n",
      " [0. 0. 0. 1.]\n",
      " [1. 0. 0. 0.]\n",
      " [2. 1. 0. 0.]\n",
      " [2. 2. 1. 0.]\n",
      " [2. 2. 1. 1.]\n",
      " [1. 2. 1. 1.]\n",
      " [0. 1. 0. 0.]\n",
      " [0. 2. 1. 0.]\n",
      " [2. 1. 1. 0.]\n",
      " [0. 1. 1. 1.]\n",
      " [1. 1. 0. 1.]\n",
      " [1. 0. 1. 0.]\n",
      " [2. 1. 0. 1.]]\n",
      "[0. 0. 1. 1. 1. 0. 1. 0. 1. 1. 1. 1. 1. 0.]\n"
     ]
    },
    {
     "ename": "TypeError",
     "evalue": "createTree() missing 1 required positional argument: 'get_idx_fx'",
     "output_type": "error",
     "traceback": [
      "\u001b[1;31m---------------------------------------------------------------------------\u001b[0m",
      "\u001b[1;31mTypeError\u001b[0m                                 Traceback (most recent call last)",
      "\u001b[1;32m<ipython-input-1-15050f7b5cc3>\u001b[0m in \u001b[0;36m<module>\u001b[1;34m\u001b[0m\n\u001b[0;32m     31\u001b[0m \u001b[0mprint\u001b[0m\u001b[1;33m(\u001b[0m\u001b[0mY\u001b[0m\u001b[1;33m)\u001b[0m\u001b[1;33m\u001b[0m\u001b[0m\n\u001b[0;32m     32\u001b[0m \u001b[1;33m\u001b[0m\u001b[0m\n\u001b[1;32m---> 33\u001b[1;33m \u001b[0mtree\u001b[0m \u001b[1;33m=\u001b[0m \u001b[0mdt\u001b[0m\u001b[1;33m.\u001b[0m\u001b[0mcreateTree\u001b[0m\u001b[1;33m(\u001b[0m\u001b[0mX\u001b[0m\u001b[1;33m,\u001b[0m\u001b[0mY\u001b[0m\u001b[1;33m,\u001b[0m\u001b[1;33m[\u001b[0m\u001b[0mi\u001b[0m \u001b[1;32mfor\u001b[0m \u001b[0mi\u001b[0m \u001b[1;32min\u001b[0m \u001b[0mrange\u001b[0m\u001b[1;33m(\u001b[0m\u001b[0mX\u001b[0m\u001b[1;33m.\u001b[0m\u001b[0mshape\u001b[0m\u001b[1;33m[\u001b[0m\u001b[1;36m1\u001b[0m\u001b[1;33m]\u001b[0m\u001b[1;33m)\u001b[0m\u001b[1;33m]\u001b[0m\u001b[1;33m,\u001b[0m \u001b[0mdt\u001b[0m\u001b[1;33m.\u001b[0m\u001b[0minOrderSelector\u001b[0m\u001b[1;33m)\u001b[0m\u001b[1;33m\u001b[0m\u001b[0m\n\u001b[0m\u001b[0;32m     34\u001b[0m \u001b[1;33m\u001b[0m\u001b[0m\n\u001b[0;32m     35\u001b[0m \u001b[0mparts\u001b[0m \u001b[1;33m=\u001b[0m \u001b[0mdt\u001b[0m\u001b[1;33m.\u001b[0m\u001b[0mpartition\u001b[0m\u001b[1;33m(\u001b[0m\u001b[0mX\u001b[0m\u001b[1;33m,\u001b[0m\u001b[0mY\u001b[0m\u001b[1;33m,\u001b[0m\u001b[1;36m0\u001b[0m\u001b[1;33m)\u001b[0m\u001b[1;33m\u001b[0m\u001b[0m\n",
      "\u001b[1;31mTypeError\u001b[0m: createTree() missing 1 required positional argument: 'get_idx_fx'"
     ]
    }
   ],
   "source": [
    "import numpy as np\n",
    "import decision_tree as dt\n",
    "\n",
    "converter = {'sunny':0, 'overcast':1, 'rain':2, 'hot':0, 'mild':1,'cool':2, 'high':0, 'normal':1, 'true':1, 'false':0, 'N':0, 'P':1}\n",
    "\n",
    "data = [['sunny', 'hot', 'high', 'false', 'N'],\n",
    "        ['sunny', 'hot', 'high', 'true', 'N'],\n",
    "        ['overcast', 'hot', 'high', 'false', 'P'],\n",
    "        ['rain', 'mild', 'high', 'false', 'P'],\n",
    "        ['rain', 'cool', 'normal', 'false', 'P'],\n",
    "        ['rain', 'cool', 'normal', 'true', 'N'],\n",
    "        ['overcast', 'cool', 'normal', 'true', 'P'],\n",
    "        ['sunny', 'mild', 'high', 'false', 'N'],\n",
    "        ['sunny', 'cool', 'normal', 'false', 'P'],\n",
    "        ['rain', 'mild', 'normal', 'false', 'P'],\n",
    "        ['sunny', 'mild', 'normal', 'true', 'P'],\n",
    "        ['overcast', 'mild', 'high', 'true', 'P'],\n",
    "        ['overcast', 'hot', 'normal', 'false', 'P'],\n",
    "        ['rain', 'mild', 'high', 'true', 'N']]\n",
    "\n",
    "np_data = np.zeros((len(data), len(data[0])))\n",
    "\n",
    "# convert the data into numbers...\n",
    "for i, row in enumerate(data):\n",
    "    for k, col in enumerate(row):\n",
    "        np_data[i,k] = converter[col]\n",
    "        \n",
    "X = np_data[:,:-1]\n",
    "Y = np_data[:,-1]\n",
    "print(X)\n",
    "print(Y)\n",
    "\n",
    "tree = dt.createTree(X,Y,[i for i in range(X.shape[1])], dt.inOrderSelector)\n",
    "\n",
    "parts = dt.partition(X,Y,0)\n",
    "for p in parts:\n",
    "    print(p[0])\n",
    "    print(p[1])\n"
   ]
  },
  {
   "cell_type": "code",
   "execution_count": null,
   "metadata": {},
   "outputs": [],
   "source": []
  },
  {
   "cell_type": "code",
   "execution_count": null,
   "metadata": {},
   "outputs": [],
   "source": []
  },
  {
   "cell_type": "code",
   "execution_count": 12,
   "metadata": {},
   "outputs": [
    {
     "ename": "InvocationException",
     "evalue": "GraphViz's executables not found",
     "output_type": "error",
     "traceback": [
      "\u001b[1;31m---------------------------------------------------------------------------\u001b[0m",
      "\u001b[1;31mInvocationException\u001b[0m                       Traceback (most recent call last)",
      "\u001b[1;32m<ipython-input-12-9a4bbd5d347a>\u001b[0m in \u001b[0;36m<module>\u001b[1;34m\u001b[0m\n\u001b[0;32m      9\u001b[0m \u001b[0mtree\u001b[0m\u001b[1;33m.\u001b[0m\u001b[0mexport_graphviz\u001b[0m\u001b[1;33m(\u001b[0m\u001b[0mclf\u001b[0m\u001b[1;33m,\u001b[0m \u001b[0mout_file\u001b[0m\u001b[1;33m=\u001b[0m\u001b[0mdot_data\u001b[0m\u001b[1;33m,\u001b[0m \u001b[0mfilled\u001b[0m\u001b[1;33m=\u001b[0m\u001b[1;32mTrue\u001b[0m\u001b[1;33m,\u001b[0m \u001b[0mrounded\u001b[0m\u001b[1;33m=\u001b[0m\u001b[1;32mTrue\u001b[0m\u001b[1;33m,\u001b[0m \u001b[0mspecial_characters\u001b[0m\u001b[1;33m=\u001b[0m\u001b[1;32mTrue\u001b[0m\u001b[1;33m)\u001b[0m\u001b[1;33m\u001b[0m\u001b[0m\n\u001b[0;32m     10\u001b[0m \u001b[0mgraph\u001b[0m \u001b[1;33m=\u001b[0m \u001b[0mpydotplus\u001b[0m\u001b[1;33m.\u001b[0m\u001b[0mgraph_from_dot_data\u001b[0m\u001b[1;33m(\u001b[0m\u001b[0mdot_data\u001b[0m\u001b[1;33m.\u001b[0m\u001b[0mgetvalue\u001b[0m\u001b[1;33m(\u001b[0m\u001b[1;33m)\u001b[0m\u001b[1;33m)\u001b[0m\u001b[1;33m\u001b[0m\u001b[0m\n\u001b[1;32m---> 11\u001b[1;33m \u001b[0mImage\u001b[0m\u001b[1;33m(\u001b[0m\u001b[0mgraph\u001b[0m\u001b[1;33m.\u001b[0m\u001b[0mcreate_png\u001b[0m\u001b[1;33m(\u001b[0m\u001b[1;33m)\u001b[0m\u001b[1;33m)\u001b[0m\u001b[1;33m\u001b[0m\u001b[0m\n\u001b[0m",
      "\u001b[1;32mc:\\users\\dlfla\\appdata\\local\\programs\\python\\python35\\lib\\site-packages\\pydotplus\\graphviz.py\u001b[0m in \u001b[0;36m<lambda>\u001b[1;34m(f, prog)\u001b[0m\n\u001b[0;32m   1795\u001b[0m             self.__setattr__(\n\u001b[0;32m   1796\u001b[0m                 \u001b[1;34m'create_'\u001b[0m \u001b[1;33m+\u001b[0m \u001b[0mfrmt\u001b[0m\u001b[1;33m,\u001b[0m\u001b[1;33m\u001b[0m\u001b[0m\n\u001b[1;32m-> 1797\u001b[1;33m                 \u001b[1;32mlambda\u001b[0m \u001b[0mf\u001b[0m\u001b[1;33m=\u001b[0m\u001b[0mfrmt\u001b[0m\u001b[1;33m,\u001b[0m \u001b[0mprog\u001b[0m\u001b[1;33m=\u001b[0m\u001b[0mself\u001b[0m\u001b[1;33m.\u001b[0m\u001b[0mprog\u001b[0m\u001b[1;33m:\u001b[0m \u001b[0mself\u001b[0m\u001b[1;33m.\u001b[0m\u001b[0mcreate\u001b[0m\u001b[1;33m(\u001b[0m\u001b[0mformat\u001b[0m\u001b[1;33m=\u001b[0m\u001b[0mf\u001b[0m\u001b[1;33m,\u001b[0m \u001b[0mprog\u001b[0m\u001b[1;33m=\u001b[0m\u001b[0mprog\u001b[0m\u001b[1;33m)\u001b[0m\u001b[1;33m\u001b[0m\u001b[0m\n\u001b[0m\u001b[0;32m   1798\u001b[0m             )\n\u001b[0;32m   1799\u001b[0m             \u001b[0mf\u001b[0m \u001b[1;33m=\u001b[0m \u001b[0mself\u001b[0m\u001b[1;33m.\u001b[0m\u001b[0m__dict__\u001b[0m\u001b[1;33m[\u001b[0m\u001b[1;34m'create_'\u001b[0m \u001b[1;33m+\u001b[0m \u001b[0mfrmt\u001b[0m\u001b[1;33m]\u001b[0m\u001b[1;33m\u001b[0m\u001b[0m\n",
      "\u001b[1;32mc:\\users\\dlfla\\appdata\\local\\programs\\python\\python35\\lib\\site-packages\\pydotplus\\graphviz.py\u001b[0m in \u001b[0;36mcreate\u001b[1;34m(self, prog, format)\u001b[0m\n\u001b[0;32m   1958\u001b[0m             \u001b[1;32mif\u001b[0m \u001b[0mself\u001b[0m\u001b[1;33m.\u001b[0m\u001b[0mprogs\u001b[0m \u001b[1;32mis\u001b[0m \u001b[1;32mNone\u001b[0m\u001b[1;33m:\u001b[0m\u001b[1;33m\u001b[0m\u001b[0m\n\u001b[0;32m   1959\u001b[0m                 raise InvocationException(\n\u001b[1;32m-> 1960\u001b[1;33m                     'GraphViz\\'s executables not found')\n\u001b[0m\u001b[0;32m   1961\u001b[0m \u001b[1;33m\u001b[0m\u001b[0m\n\u001b[0;32m   1962\u001b[0m         \u001b[1;32mif\u001b[0m \u001b[0mprog\u001b[0m \u001b[1;32mnot\u001b[0m \u001b[1;32min\u001b[0m \u001b[0mself\u001b[0m\u001b[1;33m.\u001b[0m\u001b[0mprogs\u001b[0m\u001b[1;33m:\u001b[0m\u001b[1;33m\u001b[0m\u001b[0m\n",
      "\u001b[1;31mInvocationException\u001b[0m: GraphViz's executables not found"
     ]
    }
   ],
   "source": [
    "from sklearn import tree\n",
    "from sklearn.externals.six import StringIO\n",
    "import pydotplus\n",
    "from IPython.display import Image\n",
    "\n",
    "clf = tree.DecisionTreeClassifier()\n",
    "clf = clf.fit(X,Y)\n",
    "dot_data = StringIO()\n",
    "tree.export_graphviz(clf, out_file=dot_data, filled=True, rounded=True, special_characters=True)\n",
    "graph = pydotplus.graph_from_dot_data(dot_data.getvalue())\n",
    "Image(graph.create_png())"
   ]
  },
  {
   "cell_type": "code",
   "execution_count": null,
   "metadata": {},
   "outputs": [],
   "source": []
  }
 ],
 "metadata": {
  "kernelspec": {
   "display_name": "Python 3",
   "language": "python",
   "name": "python3"
  },
  "language_info": {
   "codemirror_mode": {
    "name": "ipython",
    "version": 3
   },
   "file_extension": ".py",
   "mimetype": "text/x-python",
   "name": "python",
   "nbconvert_exporter": "python",
   "pygments_lexer": "ipython3",
   "version": "3.5.4"
  }
 },
 "nbformat": 4,
 "nbformat_minor": 2
}
