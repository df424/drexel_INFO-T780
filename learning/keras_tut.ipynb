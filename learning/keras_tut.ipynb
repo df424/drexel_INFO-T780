{
 "cells": [
  {
   "cell_type": "markdown",
   "metadata": {},
   "source": [
    "<h1 id=\"keras_tut\">Keras Tutorial (Part 2)</h1>\n",
    "<p>In this part of the assignment we go through a the basic classification tutorial using keras'</p>\n",
    "<p>A link to the actual tutorial is <a href=\"https://www.tensorflow.org/tutorials/keras/basic_classification\">here.</a></p>\n",
    "<p>In this first cell we use some built in functions to download the data set.  It is automatically divided into training sets and test sets for us.  Very convinient.</p>"
   ]
  },
  {
   "cell_type": "code",
   "execution_count": 1,
   "metadata": {},
   "outputs": [],
   "source": [
    "# Import everything we need.\n",
    "import tensorflow as tf\n",
    "from tensorflow import keras\n",
    "import numpy as np\n",
    "import matplotlib.pyplot as plt\n",
    "from keras_basic_classification import plotHistory\n",
    "\n",
    "# Load the data using keras' built in functions...\n",
    "(train_images, train_labels), (test_images, test_labels) = keras.datasets.fashion_mnist.load_data()"
   ]
  },
  {
   "cell_type": "markdown",
   "metadata": {},
   "source": [
    "<h3>The Dataset</h3>\n",
    "<p>The data set consists of 60,000 images of each 28x28 pixels.  The images contain color.  Keras can automatically flatten the images into a 784 feature vector so we don't have to worry about that.  What we do have to worry about is normalizing the data between 0 and 1 floating point values.  To do this we can just divide the image by 255.0  To save time we just divide the training set and the tests set now.  In practice if you are transforming your training data, you need to transform any other data you want to classify</p>\n",
    "<p>To do a side by side comparison of the transformation lets make a copy of the first image so we can display it before and after it is scaled.</p>"
   ]
  },
  {
   "cell_type": "code",
   "execution_count": 2,
   "metadata": {},
   "outputs": [
    {
     "data": {
      "image/png": "[encoded data removed]",
      "text/plain": [
       "<Figure size 432x288 with 2 Axes>"
      ]
     },
     "metadata": {
      "needs_background": "light"
     },
     "output_type": "display_data"
    }
   ],
   "source": [
    "# copy the first image in its unscaled format.\n",
    "unscaled_first = np.copy(train_images[0])\n",
    "# scale the rest of the data.\n",
    "train_images = train_images/255.0\n",
    "test_images = test_images/255.0\n",
    "\n",
    "# plot the first image unscaled and scaled side by side.\n",
    "f, (ax1, ax2) = plt.subplots(1, 2)\n",
    "ax1.imshow(unscaled_first)\n",
    "ax1.set_title('Unscaled Image')\n",
    "ax2.imshow(train_images[0], cmap=plt.cm.binary)\n",
    "ax2.set_title('Scaled Image')\n",
    "plt.show()"
   ]
  },
  {
   "cell_type": "markdown",
   "metadata": {},
   "source": [
    "<h3>The Model</h3>\n",
    "<p>Okay neat we see it has been transformed into a gray scale image between 0 and 1.</p>\n",
    "<p>Now we just need to use Keras to build our neural network.  We use a \"dense\" or \"fully connected\" network to learn the classifications.  It has an input layer with 784 neurons, a hidden layer with 128 neurons and a output layer with 10 neurons.  The hidden layer uses the <a href=\"https://en.wikipedia.org/wiki/Rectifier_(neural_networks)\">Rectified Linear Unit (ReLU)</a> activation function and a ten neuron output layer that is passed through the <a href=\"https://en.wikipedia.org/wiki/Softmax_function\">softmax</a> function.  The softmax function takes a vector of positive and negative values and normalizes them into a unit probability vector.</p>\n",
    "<p>Of course the reason the network has 10 neurons on its output layer is because there are ten classes in our problem.</p>"
   ]
  },
  {
   "cell_type": "code",
   "execution_count": 3,
   "metadata": {},
   "outputs": [],
   "source": [
    "model = keras.Sequential([\n",
    "    keras.layers.Flatten(input_shape=(28, 28)),\n",
    "    keras.layers.Dense(128, activation=tf.nn.relu),\n",
    "    keras.layers.Dense(10, activation=tf.nn.softmax)\n",
    "])"
   ]
  },
  {
   "cell_type": "markdown",
   "metadata": {},
   "source": [
    "<p>The next step is to compile the model.  The compile function takes three arguments.</p>\n",
    "The first is the optimizer. The optimizer is the method used to updates the weight of the network. The second is the loss function. The loss function can be thought of as the error. The optimizer updates the network proportional to the error or loss in the system. The third argument is a list of metrics that we want to plot.  In this case I pass in 'accuracy' and 'loss'</p>"
   ]
  },
  {
   "cell_type": "code",
   "execution_count": 4,
   "metadata": {},
   "outputs": [],
   "source": [
    "model.compile(optimizer='adam', \n",
    "              loss='sparse_categorical_crossentropy',\n",
    "              metrics=['accuracy'])"
   ]
  },
  {
   "cell_type": "markdown",
   "metadata": {},
   "source": [
    "<h3>Training the Model</h3>\n",
    "<p>Now we can train the model.  We pass in the training set to train the model. The epochs parameter indicates the number of times we want to iterate over the data.</p>"
   ]
  },
  {
   "cell_type": "code",
   "execution_count": 5,
   "metadata": {},
   "outputs": [
    {
     "name": "stdout",
     "output_type": "stream",
     "text": [
      "Train on 60000 samples, validate on 10000 samples\n",
      "Epoch 1/10\n",
      "60000/60000 [==============================] - 5s 80us/step - loss: 0.4957 - acc: 0.8256 - val_loss: 0.4195 - val_acc: 0.8525\n",
      "Epoch 2/10\n",
      "60000/60000 [==============================] - 5s 78us/step - loss: 0.3738 - acc: 0.8661 - val_loss: 0.3919 - val_acc: 0.8593\n",
      "Epoch 3/10\n",
      "60000/60000 [==============================] - 5s 79us/step - loss: 0.3350 - acc: 0.8785 - val_loss: 0.3597 - val_acc: 0.8714\n",
      "Epoch 4/10\n",
      "60000/60000 [==============================] - 5s 81us/step - loss: 0.3123 - acc: 0.8857 - val_loss: 0.4137 - val_acc: 0.8529\n",
      "Epoch 5/10\n",
      "60000/60000 [==============================] - 5s 81us/step - loss: 0.2940 - acc: 0.8933 - val_loss: 0.3598 - val_acc: 0.8719\n",
      "Epoch 6/10\n",
      "60000/60000 [==============================] - 5s 82us/step - loss: 0.2809 - acc: 0.8968 - val_loss: 0.3410 - val_acc: 0.8764\n",
      "Epoch 7/10\n",
      "60000/60000 [==============================] - 5s 82us/step - loss: 0.2668 - acc: 0.9010 - val_loss: 0.3398 - val_acc: 0.8819\n",
      "Epoch 8/10\n",
      "60000/60000 [==============================] - 5s 81us/step - loss: 0.2553 - acc: 0.9039 - val_loss: 0.3345 - val_acc: 0.8815\n",
      "Epoch 9/10\n",
      "60000/60000 [==============================] - 5s 80us/step - loss: 0.2465 - acc: 0.9082 - val_loss: 0.3450 - val_acc: 0.8803\n",
      "Epoch 10/10\n",
      "60000/60000 [==============================] - 5s 81us/step - loss: 0.2376 - acc: 0.9120 - val_loss: 0.3473 - val_acc: 0.8749\n"
     ]
    }
   ],
   "source": [
    "history = model.fit(train_images, train_labels, epochs=10, validation_data=(test_images, test_labels))"
   ]
  },
  {
   "cell_type": "markdown",
   "metadata": {},
   "source": [
    "<h3>Plotting the Results</h3>\n",
    "<p>We saved the history of the training so we can plot it and see how our model is learning. In this case the history contains 'loss', 'acc', 'val_loss', and 'val_acc'.  You can get the history of other parameters by including more parameters in the metrics parameter when compiling.  The loss is automatically included for us.  We also get the 'val_acc' and 'val_loss' data because we specified a valiation set when training the model.</p>"
   ]
  },
  {
   "cell_type": "code",
   "execution_count": 6,
   "metadata": {},
   "outputs": [
    {
     "name": "stdout",
     "output_type": "stream",
     "text": [
      "dict_keys(['loss', 'val_acc', 'acc', 'val_loss'])\n"
     ]
    }
   ],
   "source": [
    "print(history.history.keys())"
   ]
  },
  {
   "cell_type": "markdown",
   "metadata": {},
   "source": [
    "<p>Finally we can plot our loss and accuracy for the training set and the test set.</p>\n",
    "<p>Notice how as we iterate over the epochs our accuracy is increasing and the loss is decreasing for both data sets!</p>"
   ]
  },
  {
   "cell_type": "code",
   "execution_count": 8,
   "metadata": {},
   "outputs": [
    {
     "data": {
      "image/png": "[encoded data removed]",
      "text/plain": [
       "<Figure size 432x288 with 2 Axes>"
      ]
     },
     "metadata": {
      "needs_background": "light"
     },
     "output_type": "display_data"
    }
   ],
   "source": [
    "plotHistory(history)"
   ]
  },
  {
   "cell_type": "code",
   "execution_count": null,
   "metadata": {},
   "outputs": [],
   "source": [
    "<a href=\"https://github.com/df424/drexel_INFO-T780/tree/master/learning\">Return to the main page of the assigment.</a>"
   ]
  }
 ],
 "metadata": {
  "kernelspec": {
   "display_name": "Python 3",
   "language": "python",
   "name": "python3"
  },
  "language_info": {
   "codemirror_mode": {
    "name": "ipython",
    "version": 3
   },
   "file_extension": ".py",
   "mimetype": "text/x-python",
   "name": "python",
   "nbconvert_exporter": "python",
   "pygments_lexer": "ipython3",
   "version": "3.5.4"
  }
 },
 "nbformat": 4,
 "nbformat_minor": 2
}
