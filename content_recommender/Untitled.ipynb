{
 "cells": [
  {
   "cell_type": "code",
   "execution_count": 1,
   "metadata": {},
   "outputs": [],
   "source": [
    "#%% imports\n",
    "import clean_data as cd\n",
    "import movie_recommender as mr\n",
    "import numpy as np\n",
    "EXTRACTED_DATA_PATH = 'IMDB-Movie-Data.csv'\n",
    "ZIPPED_DATA_PATH = 'data/imdb_data.zip'"
   ]
  },
  {
   "cell_type": "code",
   "execution_count": 2,
   "metadata": {
    "scrolled": false
   },
   "outputs": [],
   "source": [
    "#%% Clean Data\n",
    "cd.unzipData(ZIPPED_DATA_PATH)\n",
    "X, Y = cd.loadData(EXTRACTED_DATA_PATH)"
   ]
  },
  {
   "cell_type": "code",
   "execution_count": 3,
   "metadata": {},
   "outputs": [
    {
     "name": "stdout",
     "output_type": "stream",
     "text": [
      "[1.00000e+00 1.00000e+00 1.00000e+00 1.00000e+00 0.00000e+00 0.00000e+00\n",
      " 0.00000e+00 0.00000e+00 0.00000e+00 0.00000e+00 0.00000e+00 0.00000e+00\n",
      " 0.00000e+00 0.00000e+00 0.00000e+00 0.00000e+00 0.00000e+00 0.00000e+00\n",
      " 0.00000e+00 0.00000e+00 0.00000e+00 5.00000e-01 5.00000e-01 8.10000e+00\n",
      " 7.57074e+05 3.33130e+02 7.60000e+01]\n",
      "(1000, 27)\n"
     ]
    }
   ],
   "source": [
    "print(X[0,:])\n",
    "print(X.shape)"
   ]
  },
  {
   "cell_type": "code",
   "execution_count": 4,
   "metadata": {},
   "outputs": [],
   "source": [
    "#Setup the difference functions, weights and recommender system.\n",
    "difference_fxs = []\n",
    "for i in range(X.shape[1]):\n",
    "    if i == 0 or i >= 21:\n",
    "        difference_fxs.append(mr.absDifference)\n",
    "    else:\n",
    "        difference_fxs.append(mr.binaryCompare)\n",
    "    \n",
    "weights = np.ones(X.shape[1])\n",
    "recommender = mr.MovieRecommenderSystem(X,Y, weights, difference_fxs)"
   ]
  },
  {
   "cell_type": "code",
   "execution_count": 5,
   "metadata": {},
   "outputs": [
    {
     "name": "stdout",
     "output_type": "stream",
     "text": [
      "[ 54  80 124  36  76 144  77  99  87  64]\n",
      "[1792538.91121369 1583998.96121369 1223178.3293058  1048016.5393058\n",
      " 1046286.97121369 1039365.8993058   959261.41121369  937638.46121369\n",
      "  936258.0093058   913278.17121369]\n",
      "['The Dark Knight', 'Inception', 'The Dark Knight Rises', 'Interstellar', 'The Avengers', 'Django Unchained', 'Inglourious Basterds', 'The Departed', 'Avatar', 'The Prestige']\n"
     ]
    }
   ],
   "source": [
    "# Get some recommendations.\n",
    "recommender.getRecommendations(np.random.rand(27))"
   ]
  },
  {
   "cell_type": "code",
   "execution_count": null,
   "metadata": {},
   "outputs": [],
   "source": []
  },
  {
   "cell_type": "code",
   "execution_count": null,
   "metadata": {},
   "outputs": [],
   "source": []
  },
  {
   "cell_type": "code",
   "execution_count": 6,
   "metadata": {},
   "outputs": [],
   "source": [
    "#%% Cleanup files\n",
    "cd.cleanupFile(EXTRACTED_DATA_PATH)"
   ]
  }
 ],
 "metadata": {
  "kernelspec": {
   "display_name": "Python 3",
   "language": "python",
   "name": "python3"
  },
  "language_info": {
   "codemirror_mode": {
    "name": "ipython",
    "version": 3
   },
   "file_extension": ".py",
   "mimetype": "text/x-python",
   "name": "python",
   "nbconvert_exporter": "python",
   "pygments_lexer": "ipython3",
   "version": "3.5.4"
  }
 },
 "nbformat": 4,
 "nbformat_minor": 2
}
