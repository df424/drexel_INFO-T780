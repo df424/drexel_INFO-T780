{
 "cells": [
  {
   "cell_type": "markdown",
   "metadata": {},
   "source": [
    "<h2>Assignment 2 - Content Based Recommender</h2>\n",
    "<p>David Flanagan INFO-T780<br>May 9th, 2019</p>\n",
    "<p>In this assignment I created a content based recommender system using a dataset I downloaded from IMDB.  The data site is available for download <a href=\"https://datasets.imdbws.com/\">here</a>.</p>\n",
    "<p>The data set contains 1000 movies and while the data set has many features I narrowed them down to the following:\n",
    "    <ol>\n",
    "        <li>Genre</li>\n",
    "        <li>IMDB Rating</li>\n",
    "        <li>Year Released</li>\n",
    "        <li>Runtime</li>\n",
    "        <li>Number of people who rated the movie</li>\n",
    "        <li>Revenue in millions of dollars</li>\n",
    "        <li>Metascore from across multiple ratings sites</li>\n",
    "    </ol>\n",
    "</p>"
   ]
  },
  {
   "cell_type": "code",
   "execution_count": 1,
   "metadata": {},
   "outputs": [],
   "source": [
    "# Imports\n",
    "import clean_data as cd\n",
    "import movie_recommender as mr\n",
    "import numpy as np\n",
    "import ipywidgets as widgets\n",
    "EXTRACTED_DATA_PATH = 'IMDB-Movie-Data.csv'\n",
    "ZIPPED_DATA_PATH = 'data/imdb_data.zip'"
   ]
  },
  {
   "cell_type": "markdown",
   "metadata": {},
   "source": [
    "<h3>Data Processing</h3>\n",
    "<p>This cell unzips the data file and process it extensively.<br>\n",
    "The genres are turned into a vector of boolean values where the value is set to 1 (True) if the movie is listed under that genre or false otherwise.  All of the other parameters are processed as ordinal data.  They are converted to discrete values based on range.</p>\n",
    "<p>\n",
    "The available genres are as follows: Action, Western, Music, History, Thriller, Drama, Horror, Musical, Animation, War, Fantasy, Comedy, Adventure, Mystery Sci-Fi, Sport, Family, Biography, Crime, and Romance</p>\n",
    "<p>The features are stored in the data matrix X with each row representing a movie.  The shape of the data is 1000x26. The cooresponding labels are stored in the column vector Y.</p>\n",
    "\n",
    " "
   ]
  },
  {
   "cell_type": "code",
   "execution_count": 2,
   "metadata": {
    "scrolled": false
   },
   "outputs": [],
   "source": [
    "#Clean the data\n",
    "cd.unzipData(ZIPPED_DATA_PATH)\n",
    "X, Y = cd.loadData(EXTRACTED_DATA_PATH)"
   ]
  },
  {
   "cell_type": "markdown",
   "metadata": {},
   "source": [
    "<h3>Creation of Recommender System</h3>\n",
    "<p>This cell actually creates the recommender system and sets up the weight vectors.  The weight vector was set via \"knowledge elicitation\" from a self declared expert\n",
    "in what people want to watch.</p>\n",
    "<p>All of the genres are given a weight of 0.7 since the expert considered genre an important feature when selecting a movie.  Likewise the IMDB rating as well as the metascore were given weights of 0.9 and 0.8 respectively since these features are considered important.  All other features were given a value between 0.1 and 0.3 as they are considered less important but should still have an impact.</p>\n",
    "<p>This section also sets up the local similarity functions.  Two different location functions are used one to compare the genres and the other to compare the ordinal data.  The genre comparison function returns a 1 if and only if the input vector has that genre selected and the movie vector is of that genre.  In otherwords it is essentally a logical AND gate.  Think of it as adding to the similarity if the input vector and the movie both have the genre listed, but no increase in similarity is added just because both the movie and the input vector both do not have a genre listed.</p>\n",
    "<p>The local similarity function for the ordinal data is given as follows:</p>\n",
    "\n",
    "$$ordinal_similarity = 1-\\frac{abs(X^{(i)}-x_i)}{range(X^{(i)})}$$\n",
    "\n",
    "<p>Where $X^{(i)}$ is the collumn of feature $i$ and $x_i$ is the $i$th feature of the input vector.</p>"
   ]
  },
  {
   "cell_type": "code",
   "execution_count": 3,
   "metadata": {},
   "outputs": [],
   "source": [
    "#Setup the difference functions, weights and recommender system.\n",
    "weights = np.array([0.7, 0.7, 0.7, 0.7, 0.7, 0.7, 0.7, 0.7, 0.7, \n",
    "                    0.7, 0.7, 0.7, 0.7, 0.7, 0.7, 0.7, 0.7, 0.7, \n",
    "                    0.7, 0.7, 0.1, 0.2, 0.9, 0.1, 0.2, 0.8])\n",
    "\n",
    "difference_fxs = []\n",
    "for i in range(X.shape[1]):\n",
    "    if i >= 20:\n",
    "        difference_fxs.append(mr.absDifference)\n",
    "    else:\n",
    "        difference_fxs.append(mr.genreCompare)\n",
    "\n",
    "recommender = mr.MovieRecommenderSystem(X,Y, weights, difference_fxs)"
   ]
  },
  {
   "cell_type": "markdown",
   "metadata": {},
   "source": [
    "<h3>Input Vector</h3>\n",
    "<p>Use these widgets to select the input vector to run kNN against.  We use radio buttons for most of the features.  However, the genre is a multiple select box so that we can select as many genres as we want to include in the recommendation query.</p>"
   ]
  },
  {
   "cell_type": "code",
   "execution_count": 4,
   "metadata": {},
   "outputs": [
    {
     "data": {
      "application/vnd.jupyter.widget-view+json": {
       "model_id": "12f581394ba14293a9b99181b2a92a19",
       "version_major": 2,
       "version_minor": 0
      },
      "text/plain": [
       "HBox(children=(SelectMultiple(description='Genres:', options=('Musical', 'Biography', 'Mystery', 'Action', 'Fa…"
      ]
     },
     "metadata": {},
     "output_type": "display_data"
    },
    {
     "data": {
      "application/vnd.jupyter.widget-view+json": {
       "model_id": "11b57308c7d94f0aa7e14cc8330aad2d",
       "version_major": 2,
       "version_minor": 0
      },
      "text/plain": [
       "HBox(children=(RadioButtons(description='IMDB Rating:', options=('Very High Rating (>9)', 'High Rating (8-9)',…"
      ]
     },
     "metadata": {},
     "output_type": "display_data"
    },
    {
     "data": {
      "application/vnd.jupyter.widget-view+json": {
       "model_id": "4ce0072ff7ea45fd99e871c98a198190",
       "version_major": 2,
       "version_minor": 0
      },
      "text/plain": [
       "RadioButtons(description='MetaScore:', options=('Very High (>90)', 'High (70-90)', 'Average (50-70)', 'Low (30…"
      ]
     },
     "metadata": {},
     "output_type": "display_data"
    }
   ],
   "source": [
    "{\n",
    "    \"tags\": [\n",
    "        \"hidecode\",\n",
    "    ]\n",
    "}\n",
    "ratingWidget = widgets.RadioButtons(description='IMDB Rating:', options=cd.ratingDict.keys())\n",
    "genreWidget = widgets.SelectMultiple(description='Genres:', options=cd.genreDict.keys())\n",
    "lengthWidget = widgets.RadioButtons(description='Movie Length:', options=cd.lengthDict.keys())\n",
    "releaseDateWidget = widgets.RadioButtons(description=\"Release Date:\", options=cd.releaseDateDict.keys())\n",
    "ratingCountWidget = widgets.RadioButtons(description='Number of Ratings:', options=cd.ratingCountDict.keys())\n",
    "revenueWidget = widgets.RadioButtons(description='Revenue:', options=cd.revenueDict.keys())\n",
    "metascoreWidget = widgets.RadioButtons(description='MetaScore:', options=cd.metaScoreDict.keys())\n",
    "display(widgets.HBox([genreWidget, releaseDateWidget, lengthWidget]),\n",
    "        widgets.HBox([ratingWidget, ratingCountWidget, revenueWidget]), metascoreWidget)\n"
   ]
  },
  {
   "cell_type": "markdown",
   "metadata": {},
   "source": [
    "<h3>Example Output</h3>"
   ]
  },
  {
   "cell_type": "code",
   "execution_count": 13,
   "metadata": {
    "scrolled": true
   },
   "outputs": [
    {
     "name": "stdout",
     "output_type": "stream",
     "text": [
      "['The Book of Life', 'Home', 'Rio', 'Trolls', 'Brave', 'Sing', 'Storks', 'Cars 2', 'Beowulf', 'Monsters University']\n",
      "None\n"
     ]
    }
   ],
   "source": [
    "input_vec = cd.selectionToInputVector(genreWidget.value, \n",
    "                                      releaseDateWidget.value, \n",
    "                                      lengthWidget.value, \n",
    "                                      ratingWidget.value, \n",
    "                                      ratingCountWidget.value, \n",
    "                                      revenueWidget.value, \n",
    "                                      metascoreWidget.value)\n",
    "\n",
    "recommendations = recommender.getRecommendations(input_vec)\n",
    "print(recommendations)"
   ]
  },
  {
   "cell_type": "markdown",
   "metadata": {},
   "source": [
    "<h3>Cleanup</h3>\n",
    "<p>This section just cleans up the intermediate extracted data file.</p>"
   ]
  },
  {
   "cell_type": "code",
   "execution_count": 6,
   "metadata": {},
   "outputs": [],
   "source": [
    "#%% Cleanup files\n",
    "cd.cleanupFile(EXTRACTED_DATA_PATH)"
   ]
  }
 ],
 "metadata": {
  "kernelspec": {
   "display_name": "Python 3",
   "language": "python",
   "name": "python3"
  },
  "language_info": {
   "codemirror_mode": {
    "name": "ipython",
    "version": 3
   },
   "file_extension": ".py",
   "mimetype": "text/x-python",
   "name": "python",
   "nbconvert_exporter": "python",
   "pygments_lexer": "ipython3",
   "version": "3.5.4"
  }
 },
 "nbformat": 4,
 "nbformat_minor": 2
}
