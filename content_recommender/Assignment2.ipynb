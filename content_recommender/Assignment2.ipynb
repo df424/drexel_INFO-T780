{
 "cells": [
  {
   "cell_type": "markdown",
   "metadata": {},
   "source": [
    "<h2>Assignment 2 - Content Based Recommender</h2>\n",
    "<p>David Flanagan INFO-T780<br>May 9th, 2019</p>\n",
    "\n",
    "<h3>Running the Assignment</h3>\n",
    "<p>This assignment was implemented in a jupyter notebook as requested.  The code requires the following libraries:</p>\n",
    "<ul>\n",
    "<li>numpy</li>\n",
    "<li>jupyter</li>\n",
    "<li>tabulate</li>\n",
    "</ul>\n",
    "<p>All of the listed packages area available through pip. To run the assignment clone the repository via</p>\n",
    "<code>git clone https://github.com/df424/drexel_INFO-T780</code>\n",
    "<p>The navigate to the repository directory and run</p>\n",
    "<code>jupyter notebook</code>\n",
    "<p>Assuming everything has been installed correctly the jupyter server should start and you can then click on \"assignment2.ipynb\" in your webbrowser to run the assignment interactively.</p>\n",
    "\n",
    "<h3>About the Data</h3>\n",
    "<p>In this assignment I created a content based recommender system using a dataset I downloaded from IMDB.  The data site is available for download <a href=\"https://datasets.imdbws.com/\">here</a>.</p>\n",
    "<p>The data set contains 1000 movies and while the data set has many features I narrowed them down to the following:\n",
    "    <ol>\n",
    "        <li>Genre</li>\n",
    "        <li>IMDB Rating</li>\n",
    "        <li>Year Released</li>\n",
    "        <li>Runtime</li>\n",
    "        <li>Number of people who rated the movie</li>\n",
    "        <li>Revenue in millions of dollars</li>\n",
    "        <li>Metascore from across multiple ratings sites</li>\n",
    "    </ol>\n",
    "</p>"
   ]
  },
  {
   "cell_type": "code",
   "execution_count": 11,
   "metadata": {},
   "outputs": [],
   "source": [
    "# Imports\n",
    "import clean_data as cd\n",
    "import movie_recommender as mr\n",
    "import numpy as np\n",
    "import ipywidgets as widgets\n",
    "from IPython.display import HTML, display\n",
    "import tabulate\n",
    "EXTRACTED_DATA_PATH = 'IMDB-Movie-Data.csv'\n",
    "ZIPPED_DATA_PATH = 'data/imdb_data.zip'"
   ]
  },
  {
   "cell_type": "markdown",
   "metadata": {},
   "source": [
    "<h3>Data Processing</h3>\n",
    "<p>This cell unzips the data file and process it extensively.<br>\n",
    "The genres are turned into a vector of boolean values where the value is set to 1 (True) if the movie is listed under that genre or false otherwise.  All of the other parameters are processed as ordinal data.  They are converted to discrete values based on range.</p>\n",
    "<p>\n",
    "The available genres are as follows: Action, Western, Music, History, Thriller, Drama, Horror, Musical, Animation, War, Fantasy, Comedy, Adventure, Mystery Sci-Fi, Sport, Family, Biography, Crime, and Romance</p>\n",
    "<p>The features are stored in the data matrix X with each row representing a movie.  The shape of the data is 1000x26. The cooresponding labels are stored in the column vector Y.</p>\n",
    "\n",
    " "
   ]
  },
  {
   "cell_type": "code",
   "execution_count": 12,
   "metadata": {
    "scrolled": false
   },
   "outputs": [],
   "source": [
    "#Clean the data\n",
    "cd.unzipData(ZIPPED_DATA_PATH)\n",
    "X, Y = cd.loadData(EXTRACTED_DATA_PATH)"
   ]
  },
  {
   "cell_type": "markdown",
   "metadata": {},
   "source": [
    "<h3>Creation of Recommender System</h3>\n",
    "<p>This cell actually creates the recommender system and sets up the weight vectors.  The weight vector was set via \"knowledge elicitation\" from a self declared expert\n",
    "in what people want to watch.</p>\n",
    "<p>All of the genres are given a weight of 0.7 since the expert considered genre an important feature when selecting a movie.  Likewise the IMDB rating as well as the metascore were given weights of 0.9 and 0.8 respectively since these features are considered important.  All other features were given a value between 0.1 and 0.3 as they are considered less important but should still have an impact.</p>\n",
    "<p>This section also sets up the local similarity functions.  Two different location functions are used one to compare the genres and the other to compare the ordinal data.  The genre comparison function returns a 1 if and only if the input vector has that genre selected and the movie vector is of that genre.  In otherwords it is essentally a logical AND gate.  Think of it as adding to the similarity if the input vector and the movie both have the genre listed, but no increase in similarity is added just because both the movie and the input vector both do not have a genre listed.</p>\n",
    "<p>The local similarity function for the ordinal data is given as follows:</p>\n",
    "\n",
    "$$ordinal_similarity = 1-\\frac{abs(X^{(i)}-x_i)}{range(X^{(i)})}$$\n",
    "\n",
    "<p>Where $X^{(i)}$ is the collumn of feature $i$ and $x_i$ is the $i$th feature of the input vector.</p>"
   ]
  },
  {
   "cell_type": "code",
   "execution_count": 13,
   "metadata": {},
   "outputs": [],
   "source": [
    "#Setup the difference functions, weights and recommender system.\n",
    "weights = np.array([0.7, 0.7, 0.7, 0.7, 0.7, 0.7, 0.7, 0.7, 0.7, \n",
    "                    0.7, 0.7, 0.7, 0.7, 0.7, 0.7, 0.7, 0.7, 0.7, \n",
    "                    0.7, 0.7, 0.1, 0.2, 0.9, 0.1, 0.2, 0.8])\n",
    "\n",
    "difference_fxs = []\n",
    "for i in range(X.shape[1]):\n",
    "    if i >= 20:\n",
    "        difference_fxs.append(mr.absDifference)\n",
    "    else:\n",
    "        difference_fxs.append(mr.genreCompare)\n",
    "\n",
    "recommender = mr.MovieRecommenderSystem(X,Y, weights, difference_fxs)"
   ]
  },
  {
   "cell_type": "markdown",
   "metadata": {},
   "source": [
    "<h3>Input Vector</h3>\n",
    "<p>Use these widgets to select the input vector to run kNN against.  We use radio buttons for most of the features.  However, the genre is a multiple select box so that we can select as many genres as we want to include in the recommendation query.</p>"
   ]
  },
  {
   "cell_type": "code",
   "execution_count": 14,
   "metadata": {},
   "outputs": [
    {
     "data": {
      "application/vnd.jupyter.widget-view+json": {
       "model_id": "0a8aecd59cf44eb3858b5880b63f67db",
       "version_major": 2,
       "version_minor": 0
      },
      "text/plain": [
       "HBox(children=(SelectMultiple(description='Genres:', options=('Animation', 'Sport', 'Crime', 'Family', 'Fantas…"
      ]
     },
     "metadata": {},
     "output_type": "display_data"
    },
    {
     "data": {
      "application/vnd.jupyter.widget-view+json": {
       "model_id": "ab61680854454fdaa5b68f277179df24",
       "version_major": 2,
       "version_minor": 0
      },
      "text/plain": [
       "HBox(children=(RadioButtons(description='IMDB Rating:', options=('Very High Rating (>9)', 'High Rating (8-9)',…"
      ]
     },
     "metadata": {},
     "output_type": "display_data"
    },
    {
     "data": {
      "application/vnd.jupyter.widget-view+json": {
       "model_id": "9e454001bcb647e28b57e4b7f2a2daf1",
       "version_major": 2,
       "version_minor": 0
      },
      "text/plain": [
       "RadioButtons(description='MetaScore:', options=('Very High (>90)', 'High (70-90)', 'Average (50-70)', 'Low (30…"
      ]
     },
     "metadata": {},
     "output_type": "display_data"
    }
   ],
   "source": [
    "ratingWidget = widgets.RadioButtons(description='IMDB Rating:', options=cd.ratingDict.keys())\n",
    "genreWidget = widgets.SelectMultiple(description='Genres:', options=cd.genreDict.keys())\n",
    "lengthWidget = widgets.RadioButtons(description='Movie Length:', options=cd.lengthDict.keys())\n",
    "releaseDateWidget = widgets.RadioButtons(description=\"Release Date:\", options=cd.releaseDateDict.keys())\n",
    "ratingCountWidget = widgets.RadioButtons(description='Number of Ratings:', options=cd.ratingCountDict.keys())\n",
    "revenueWidget = widgets.RadioButtons(description='Revenue:', options=cd.revenueDict.keys())\n",
    "metascoreWidget = widgets.RadioButtons(description='MetaScore:', options=cd.metaScoreDict.keys())\n",
    "display(widgets.HBox([genreWidget, releaseDateWidget, lengthWidget]),\n",
    "        widgets.HBox([ratingWidget, ratingCountWidget, revenueWidget]), metascoreWidget)\n"
   ]
  },
  {
   "cell_type": "markdown",
   "metadata": {},
   "source": [
    "<h3>Example Output</h3>\n",
    "<p>In this cell the widgets are turned into the input vector.  I print the input vector so you can see a concrete example of what a row of the data would look like.</p>\n",
    "<p>The data is then displayed in a table.  Notice how above I have selected Fantasy, Adventure and War. It doesn't seem any examples have all three, but Fantasy and Adventure is highly represented.  Likewise We can see that all the movies are from the date range, revenues and ratings that I selected in the widgets above.  It seems to be working quite well.  I ran several other queries that also seemed to match the input, but didn't display them here because of the logistics of putting that repeatedly in the jupyter notebook.</p>"
   ]
  },
  {
   "cell_type": "code",
   "execution_count": 23,
   "metadata": {
    "scrolled": true
   },
   "outputs": [
    {
     "name": "stdout",
     "output_type": "stream",
     "text": [
      "[0. 1. 0. 0. 0. 0. 0. 0. 0. 1. 0. 0. 0. 0. 0. 0. 0. 1. 0. 0. 1. 3. 3. 1.\n",
      " 3. 3.]\n"
     ]
    },
    {
     "data": {
      "text/html": [
       "<table>\n",
       "<tbody>\n",
       "<tr><td style=\"text-align: right;\"> 51</td><td>Star Wars: Episode VII - The Force Awakens  </td><td>Action,Adventure,Fantasy</td><td>Three decades after the defeat of the Galactic Empire, a new threat arises. The First Order attempts to rule the galaxy and only a ragtag group of heroes can stop them, along with the help of the Resistance.</td><td>J.J. Abrams       </td><td>Daisy Ridley, John Boyega, Oscar Isaac, Domhnall Gleeson   </td><td style=\"text-align: right;\">2015</td><td style=\"text-align: right;\">136</td><td style=\"text-align: right;\">8.1</td><td style=\"text-align: right;\">661608</td><td style=\"text-align: right;\">936.63</td><td style=\"text-align: right;\">81</td></tr>\n",
       "<tr><td style=\"text-align: right;\">115</td><td>Harry Potter and the Deathly Hallows: Part 2</td><td>Adventure,Drama,Fantasy </td><td>Harry, Ron and Hermione search for Voldemort's remaining Horcruxes in their effort to destroy the Dark Lord as the final battle rages on at Hogwarts.                                                          </td><td>David Yates       </td><td>Daniel Radcliffe, Emma Watson, Rupert Grint, Michael Gambon</td><td style=\"text-align: right;\">2011</td><td style=\"text-align: right;\">130</td><td style=\"text-align: right;\">8.1</td><td style=\"text-align: right;\">590595</td><td style=\"text-align: right;\">380.96</td><td style=\"text-align: right;\">87</td></tr>\n",
       "<tr><td style=\"text-align: right;\"> 78</td><td>Inglourious Basterds                        </td><td>Adventure,Drama,War     </td><td>In Nazi-occupied France during World War II, a plan to assassinate Nazi leaders by a group of Jewish U.S. soldiers coincides with a theatre owner's vengeful plans for the same.                               </td><td>Quentin Tarantino </td><td>Brad Pitt, Diane Kruger, Eli Roth,MÃ©lanie Laurent         </td><td style=\"text-align: right;\">2009</td><td style=\"text-align: right;\">153</td><td style=\"text-align: right;\">8.3</td><td style=\"text-align: right;\">959065</td><td style=\"text-align: right;\">120.52</td><td style=\"text-align: right;\">69</td></tr>\n",
       "<tr><td style=\"text-align: right;\">695</td><td>Life of Pi                                  </td><td>Adventure,Drama,Fantasy </td><td>A young man who survives a disaster at sea is hurtled into an epic journey of adventure and discovery. While cast away, he forms an unexpected connection with another survivor: a fearsome Bengal tiger.      </td><td>Ang Lee           </td><td>Suraj Sharma, Irrfan Khan, Adil Hussain, Tabu              </td><td style=\"text-align: right;\">2012</td><td style=\"text-align: right;\">127</td><td style=\"text-align: right;\">7.9</td><td style=\"text-align: right;\">471109</td><td style=\"text-align: right;\">124.98</td><td style=\"text-align: right;\">79</td></tr>\n",
       "<tr><td style=\"text-align: right;\">610</td><td>Hellboy II: The Golden Army                 </td><td>Action,Adventure,Fantasy</td><td>The mythical world starts a rebellion against humanity in order to rule the Earth, so Hellboy and his team must save the world from the rebellious creatures.                                                  </td><td>Guillermo del Toro</td><td>Ron Perlman, Selma Blair, Doug Jones, John Alexander       </td><td style=\"text-align: right;\">2008</td><td style=\"text-align: right;\">120</td><td style=\"text-align: right;\">7  </td><td style=\"text-align: right;\">216932</td><td style=\"text-align: right;\"> 75.75</td><td style=\"text-align: right;\">78</td></tr>\n",
       "</tbody>\n",
       "</table>"
      ],
      "text/plain": [
       "<IPython.core.display.HTML object>"
      ]
     },
     "metadata": {},
     "output_type": "display_data"
    }
   ],
   "source": [
    "input_vec = cd.selectionToInputVector(genreWidget.value, \n",
    "                                      releaseDateWidget.value, \n",
    "                                      lengthWidget.value, \n",
    "                                      ratingWidget.value, \n",
    "                                      ratingCountWidget.value, \n",
    "                                      revenueWidget.value, \n",
    "                                      metascoreWidget.value)\n",
    "\n",
    "print(input_vec)\n",
    "\n",
    "# Get the top 5 recommendations.\n",
    "recommendations = recommender.getRecommendations(input_vec, 5)\n",
    "\n",
    "# display the data in jupyter as an html table.\n",
    "display(HTML(tabulate.tabulate(recommendations, tablefmt='html')))"
   ]
  },
  {
   "cell_type": "markdown",
   "metadata": {},
   "source": [
    "<h3>Cleanup</h3>\n",
    "<p>This section just cleans up the intermediate extracted data file.</p>"
   ]
  },
  {
   "cell_type": "code",
   "execution_count": 24,
   "metadata": {},
   "outputs": [],
   "source": [
    "#%% Cleanup files\n",
    "cd.cleanupFile(EXTRACTED_DATA_PATH)"
   ]
  },
  {
   "cell_type": "code",
   "execution_count": null,
   "metadata": {},
   "outputs": [],
   "source": []
  }
 ],
 "metadata": {
  "kernelspec": {
   "display_name": "Python 3",
   "language": "python",
   "name": "python3"
  },
  "language_info": {
   "codemirror_mode": {
    "name": "ipython",
    "version": 3
   },
   "file_extension": ".py",
   "mimetype": "text/x-python",
   "name": "python",
   "nbconvert_exporter": "python",
   "pygments_lexer": "ipython3",
   "version": "3.5.4"
  }
 },
 "nbformat": 4,
 "nbformat_minor": 2
}
